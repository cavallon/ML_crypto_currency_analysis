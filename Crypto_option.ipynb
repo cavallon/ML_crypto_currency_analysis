{
 "cells": [
  {
   "cell_type": "code",
   "execution_count": null,
   "metadata": {},
   "outputs": [],
   "source": [
    "#Predicting the next 10 days"
   ]
  },
  {
   "cell_type": "code",
   "execution_count": 30,
   "metadata": {},
   "outputs": [],
   "source": [
    "# Load libraries\n",
    "import numpy as np\n",
    "import pandas as pd\n",
    "import matplotlib.pyplot as plt\n",
    "import tensorflow as tf\n",
    "import math\n",
    "\n",
    "from numpy import array\n",
    "from sklearn.metrics import mean_squared_error\n",
    "from sklearn.preprocessing import MinMaxScaler\n",
    "from tensorflow.keras.models import Sequential\n",
    "from tensorflow.keras.layers import Dense\n",
    "from tensorflow.keras.layers import LSTM"
   ]
  },
  {
   "cell_type": "code",
   "execution_count": 2,
   "metadata": {},
   "outputs": [
    {
     "data": {
      "text/html": [
       "<div>\n",
       "<style scoped>\n",
       "    .dataframe tbody tr th:only-of-type {\n",
       "        vertical-align: middle;\n",
       "    }\n",
       "\n",
       "    .dataframe tbody tr th {\n",
       "        vertical-align: top;\n",
       "    }\n",
       "\n",
       "    .dataframe thead th {\n",
       "        text-align: right;\n",
       "    }\n",
       "</style>\n",
       "<table border=\"1\" class=\"dataframe\">\n",
       "  <thead>\n",
       "    <tr style=\"text-align: right;\">\n",
       "      <th></th>\n",
       "      <th>Date</th>\n",
       "      <th>Price</th>\n",
       "      <th>Open</th>\n",
       "      <th>High</th>\n",
       "      <th>Low</th>\n",
       "      <th>Vol.</th>\n",
       "      <th>Change %</th>\n",
       "    </tr>\n",
       "  </thead>\n",
       "  <tbody>\n",
       "    <tr>\n",
       "      <th>0</th>\n",
       "      <td>03/24/2024</td>\n",
       "      <td>67,211.9</td>\n",
       "      <td>64,036.5</td>\n",
       "      <td>67,587.8</td>\n",
       "      <td>63,812.9</td>\n",
       "      <td>65.59K</td>\n",
       "      <td>4.96%</td>\n",
       "    </tr>\n",
       "    <tr>\n",
       "      <th>1</th>\n",
       "      <td>03/23/2024</td>\n",
       "      <td>64,037.8</td>\n",
       "      <td>63,785.6</td>\n",
       "      <td>65,972.4</td>\n",
       "      <td>63,074.9</td>\n",
       "      <td>35.11K</td>\n",
       "      <td>0.40%</td>\n",
       "    </tr>\n",
       "    <tr>\n",
       "      <th>2</th>\n",
       "      <td>03/22/2024</td>\n",
       "      <td>63,785.5</td>\n",
       "      <td>65,501.5</td>\n",
       "      <td>66,633.3</td>\n",
       "      <td>62,328.3</td>\n",
       "      <td>72.43K</td>\n",
       "      <td>-2.62%</td>\n",
       "    </tr>\n",
       "    <tr>\n",
       "      <th>3</th>\n",
       "      <td>03/21/2024</td>\n",
       "      <td>65,503.8</td>\n",
       "      <td>67,860.0</td>\n",
       "      <td>68,161.7</td>\n",
       "      <td>64,616.1</td>\n",
       "      <td>75.26K</td>\n",
       "      <td>-3.46%</td>\n",
       "    </tr>\n",
       "    <tr>\n",
       "      <th>4</th>\n",
       "      <td>03/20/2024</td>\n",
       "      <td>67,854.0</td>\n",
       "      <td>62,046.8</td>\n",
       "      <td>68,029.5</td>\n",
       "      <td>60,850.9</td>\n",
       "      <td>133.53K</td>\n",
       "      <td>9.35%</td>\n",
       "    </tr>\n",
       "    <tr>\n",
       "      <th>5</th>\n",
       "      <td>03/19/2024</td>\n",
       "      <td>62,050.0</td>\n",
       "      <td>67,594.1</td>\n",
       "      <td>68,099.6</td>\n",
       "      <td>61,560.6</td>\n",
       "      <td>148.08K</td>\n",
       "      <td>-8.20%</td>\n",
       "    </tr>\n",
       "    <tr>\n",
       "      <th>6</th>\n",
       "      <td>03/18/2024</td>\n",
       "      <td>67,594.1</td>\n",
       "      <td>68,389.7</td>\n",
       "      <td>68,920.1</td>\n",
       "      <td>66,601.4</td>\n",
       "      <td>78.07K</td>\n",
       "      <td>-1.17%</td>\n",
       "    </tr>\n",
       "    <tr>\n",
       "      <th>7</th>\n",
       "      <td>03/17/2024</td>\n",
       "      <td>68,391.2</td>\n",
       "      <td>65,314.2</td>\n",
       "      <td>68,857.7</td>\n",
       "      <td>64,605.5</td>\n",
       "      <td>66.07K</td>\n",
       "      <td>4.71%</td>\n",
       "    </tr>\n",
       "    <tr>\n",
       "      <th>8</th>\n",
       "      <td>03/16/2024</td>\n",
       "      <td>65,314.2</td>\n",
       "      <td>69,456.5</td>\n",
       "      <td>70,037.0</td>\n",
       "      <td>64,971.0</td>\n",
       "      <td>75.82K</td>\n",
       "      <td>-5.97%</td>\n",
       "    </tr>\n",
       "    <tr>\n",
       "      <th>9</th>\n",
       "      <td>03/15/2024</td>\n",
       "      <td>69,463.7</td>\n",
       "      <td>71,387.1</td>\n",
       "      <td>72,398.1</td>\n",
       "      <td>65,765.6</td>\n",
       "      <td>148.59K</td>\n",
       "      <td>-2.69%</td>\n",
       "    </tr>\n",
       "  </tbody>\n",
       "</table>\n",
       "</div>"
      ],
      "text/plain": [
       "         Date     Price      Open      High       Low     Vol. Change %\n",
       "0  03/24/2024  67,211.9  64,036.5  67,587.8  63,812.9   65.59K    4.96%\n",
       "1  03/23/2024  64,037.8  63,785.6  65,972.4  63,074.9   35.11K    0.40%\n",
       "2  03/22/2024  63,785.5  65,501.5  66,633.3  62,328.3   72.43K   -2.62%\n",
       "3  03/21/2024  65,503.8  67,860.0  68,161.7  64,616.1   75.26K   -3.46%\n",
       "4  03/20/2024  67,854.0  62,046.8  68,029.5  60,850.9  133.53K    9.35%\n",
       "5  03/19/2024  62,050.0  67,594.1  68,099.6  61,560.6  148.08K   -8.20%\n",
       "6  03/18/2024  67,594.1  68,389.7  68,920.1  66,601.4   78.07K   -1.17%\n",
       "7  03/17/2024  68,391.2  65,314.2  68,857.7  64,605.5   66.07K    4.71%\n",
       "8  03/16/2024  65,314.2  69,456.5  70,037.0  64,971.0   75.82K   -5.97%\n",
       "9  03/15/2024  69,463.7  71,387.1  72,398.1  65,765.6  148.59K   -2.69%"
      ]
     },
     "execution_count": 2,
     "metadata": {},
     "output_type": "execute_result"
    }
   ],
   "source": [
    "# Load the data into a Pandas DataFrame\n",
    "bt = pd.read_csv(\n",
    "    \"crypto project/Bitcoin Historical Data (2014-2024).csv\")\n",
    "\n",
    "# Display sample data\n",
    "bt.head(10)\n",
    "\n"
   ]
  },
  {
   "cell_type": "code",
   "execution_count": 4,
   "metadata": {},
   "outputs": [
    {
     "name": "stdout",
     "output_type": "stream",
     "text": [
      "           Date     Price      Open      High       Low     Vol. Change %\n",
      "3653 2014-03-24     567.6     551.2     572.5     531.3    3.67K    2.98%\n",
      "3652 2014-03-25     562.9     567.6     569.7     550.4    3.87K   -0.82%\n",
      "3651 2014-03-26     562.5     562.9     575.4     546.3    3.71K   -0.08%\n",
      "3650 2014-03-27     460.5     562.5     567.8     460.5    3.78K  -18.13%\n",
      "3649 2014-03-28     482.6     460.5     515.0     453.8    4.11K    4.81%\n",
      "...         ...       ...       ...       ...       ...      ...      ...\n",
      "4    2024-03-20  67,854.0  62,046.8  68,029.5  60,850.9  133.53K    9.35%\n",
      "3    2024-03-21  65,503.8  67,860.0  68,161.7  64,616.1   75.26K   -3.46%\n",
      "2    2024-03-22  63,785.5  65,501.5  66,633.3  62,328.3   72.43K   -2.62%\n",
      "1    2024-03-23  64,037.8  63,785.6  65,972.4  63,074.9   35.11K    0.40%\n",
      "0    2024-03-24  67,211.9  64,036.5  67,587.8  63,812.9   65.59K    4.96%\n",
      "\n",
      "[3654 rows x 7 columns]\n"
     ]
    }
   ],
   "source": [
    "# Convert the date column to datetime format if it's not already in datetime\n",
    "bt['Date'] = pd.to_datetime(bt['Date'], format='%m/%d/%Y')\n",
    "\n",
    "# Sort the DataFrame by the 'Date' column in ascending order\n",
    "bt = bt.sort_values(by='Date', ascending=True)\n",
    "\n",
    "# Print the sorted DataFrame\n",
    "print(bt)"
   ]
  },
  {
   "cell_type": "code",
   "execution_count": 5,
   "metadata": {},
   "outputs": [
    {
     "name": "stdout",
     "output_type": "stream",
     "text": [
      "<class 'pandas.core.frame.DataFrame'>\n",
      "Index: 3654 entries, 3653 to 0\n",
      "Data columns (total 7 columns):\n",
      " #   Column    Non-Null Count  Dtype         \n",
      "---  ------    --------------  -----         \n",
      " 0   Date      3654 non-null   datetime64[ns]\n",
      " 1   Price     3654 non-null   object        \n",
      " 2   Open      3654 non-null   object        \n",
      " 3   High      3654 non-null   object        \n",
      " 4   Low       3654 non-null   object        \n",
      " 5   Vol.      3654 non-null   object        \n",
      " 6   Change %  3654 non-null   object        \n",
      "dtypes: datetime64[ns](1), object(6)\n",
      "memory usage: 228.4+ KB\n"
     ]
    }
   ],
   "source": [
    "#Columns information\n",
    "bt.info()"
   ]
  },
  {
   "cell_type": "code",
   "execution_count": 6,
   "metadata": {},
   "outputs": [
    {
     "data": {
      "text/plain": [
       "3654"
      ]
     },
     "execution_count": 6,
     "metadata": {},
     "output_type": "execute_result"
    }
   ],
   "source": [
    "# How many samples do we have?\n",
    "len(bt)"
   ]
  },
  {
   "cell_type": "code",
   "execution_count": 7,
   "metadata": {},
   "outputs": [
    {
     "name": "stderr",
     "output_type": "stream",
     "text": [
      "C:\\Users\\rtkam\\AppData\\Local\\Temp\\ipykernel_32016\\2567909763.py:2: FutureWarning: DataFrame.applymap has been deprecated. Use DataFrame.map instead.\n",
      "  bt[[\"Price\"]] = bt[[\"Price\"]].applymap(lambda x: float(x.replace(',', '')))\n"
     ]
    }
   ],
   "source": [
    "#Column type change \n",
    "bt[[\"Price\"]] = bt[[\"Price\"]].applymap(lambda x: float(x.replace(',', '')))"
   ]
  },
  {
   "cell_type": "code",
   "execution_count": 8,
   "metadata": {},
   "outputs": [
    {
     "data": {
      "text/plain": [
       "0    567.6\n",
       "1    562.9\n",
       "2    562.5\n",
       "3    460.5\n",
       "4    482.6\n",
       "Name: Price, dtype: float64"
      ]
     },
     "execution_count": 8,
     "metadata": {},
     "output_type": "execute_result"
    }
   ],
   "source": [
    "# Only want Price column for each day \n",
    "\n",
    "bitcoin_prices = bt.reset_index()['Price']\n",
    "bitcoin_prices.head()\n"
   ]
  },
  {
   "cell_type": "code",
   "execution_count": 9,
   "metadata": {},
   "outputs": [],
   "source": [
    "scaler = MinMaxScaler(feature_range=(0,1))\n",
    "bitcoin_prices = scaler.fit_transform(np.array(bitcoin_prices).reshape(-1,1))"
   ]
  },
  {
   "cell_type": "code",
   "execution_count": 10,
   "metadata": {},
   "outputs": [
    {
     "data": {
      "text/plain": [
       "array([[0.0055239 ],\n",
       "       [0.00545943],\n",
       "       [0.00545394],\n",
       "       ...,\n",
       "       [0.8726938 ],\n",
       "       [0.87615464],\n",
       "       [0.91969427]])"
      ]
     },
     "execution_count": 10,
     "metadata": {},
     "output_type": "execute_result"
    }
   ],
   "source": [
    "bitcoin_prices"
   ]
  },
  {
   "cell_type": "code",
   "execution_count": 11,
   "metadata": {},
   "outputs": [],
   "source": [
    "#Splitting the data set into train and test split\n",
    "training_size = int(len(bitcoin_prices)*0.7)\n",
    "test_size = len(bitcoin_prices)- training_size\n",
    "\n",
    "train_data, test_data = bitcoin_prices[0:training_size,:], bitcoin_prices[training_size:len(bitcoin_prices),:1]\n"
   ]
  },
  {
   "cell_type": "code",
   "execution_count": 12,
   "metadata": {},
   "outputs": [
    {
     "data": {
      "text/plain": [
       "(2557, 1097)"
      ]
     },
     "execution_count": 12,
     "metadata": {},
     "output_type": "execute_result"
    }
   ],
   "source": [
    "training_size, test_size"
   ]
  },
  {
   "cell_type": "code",
   "execution_count": 13,
   "metadata": {},
   "outputs": [],
   "source": [
    "#Convert an array of values into a dataset matris\n",
    "\n",
    "def create_dataset(dataset, time_step=1):\n",
    "    dataX, dataY = [], []\n",
    "    for i in range (len(dataset) - time_step -1):\n",
    "        a = dataset[i:(i + time_step), 0] #i=0, 0, 1, 2, 3\n",
    "        dataX.append(a)\n",
    "        dataY.append(dataset[i + time_step, 0])\n",
    "    return np.array(dataX), np.array(dataY)\n"
   ]
  },
  {
   "cell_type": "code",
   "execution_count": 14,
   "metadata": {},
   "outputs": [],
   "source": [
    "#reshape into X=t, t+1, t+2, t+3 and y=t+4\n",
    "time_step = 100\n",
    "X_train, y_train= create_dataset(train_data, time_step)\n",
    "X_test, y_test= create_dataset(test_data, time_step)"
   ]
  },
  {
   "cell_type": "code",
   "execution_count": 15,
   "metadata": {},
   "outputs": [
    {
     "name": "stdout",
     "output_type": "stream",
     "text": [
      "(2456, 100)\n",
      "(2456,)\n"
     ]
    },
    {
     "data": {
      "text/plain": [
       "(None, None)"
      ]
     },
     "execution_count": 15,
     "metadata": {},
     "output_type": "execute_result"
    }
   ],
   "source": [
    "print(X_train.shape), print(y_train.shape)"
   ]
  },
  {
   "cell_type": "code",
   "execution_count": 16,
   "metadata": {},
   "outputs": [],
   "source": [
    "#Reshape the data to be samples, time steps, features whisch is required for LSTM\n",
    "X_train= X_train.reshape(X_train.shape[0], X_train.shape[1], 1)\n",
    "X_test = X_test.reshape(X_test.shape[0], X_test.shape[1],1)"
   ]
  },
  {
   "cell_type": "code",
   "execution_count": 17,
   "metadata": {},
   "outputs": [
    {
     "name": "stderr",
     "output_type": "stream",
     "text": [
      "c:\\Users\\rtkam\\anaconda3\\envs\\dev\\lib\\site-packages\\keras\\src\\layers\\rnn\\rnn.py:204: UserWarning: Do not pass an `input_shape`/`input_dim` argument to a layer. When using Sequential models, prefer using an `Input(shape)` object as the first layer in the model instead.\n",
      "  super().__init__(**kwargs)\n"
     ]
    }
   ],
   "source": [
    "#Create the LSTM model\n",
    "model = Sequential()\n",
    "model.add(LSTM(50, return_sequences= True, input_shape=(100,1)))\n",
    "model.add(LSTM(50, return_sequences= True))\n",
    "model.add(LSTM(50))\n",
    "model.add(Dense(1))\n",
    "model.compile(loss='mean_squared_error', optimizer='adam')\n"
   ]
  },
  {
   "cell_type": "code",
   "execution_count": 18,
   "metadata": {},
   "outputs": [
    {
     "data": {
      "text/html": [
       "<pre style=\"white-space:pre;overflow-x:auto;line-height:normal;font-family:Menlo,'DejaVu Sans Mono',consolas,'Courier New',monospace\"><span style=\"font-weight: bold\">Model: \"sequential\"</span>\n",
       "</pre>\n"
      ],
      "text/plain": [
       "\u001b[1mModel: \"sequential\"\u001b[0m\n"
      ]
     },
     "metadata": {},
     "output_type": "display_data"
    },
    {
     "data": {
      "text/html": [
       "<pre style=\"white-space:pre;overflow-x:auto;line-height:normal;font-family:Menlo,'DejaVu Sans Mono',consolas,'Courier New',monospace\">┏━━━━━━━━━━━━━━━━━━━━━━━━━━━━━━━━━┳━━━━━━━━━━━━━━━━━━━━━━━━┳━━━━━━━━━━━━━━━┓\n",
       "┃<span style=\"font-weight: bold\"> Layer (type)                    </span>┃<span style=\"font-weight: bold\"> Output Shape           </span>┃<span style=\"font-weight: bold\">       Param # </span>┃\n",
       "┡━━━━━━━━━━━━━━━━━━━━━━━━━━━━━━━━━╇━━━━━━━━━━━━━━━━━━━━━━━━╇━━━━━━━━━━━━━━━┩\n",
       "│ lstm (<span style=\"color: #0087ff; text-decoration-color: #0087ff\">LSTM</span>)                     │ (<span style=\"color: #00d7ff; text-decoration-color: #00d7ff\">None</span>, <span style=\"color: #00af00; text-decoration-color: #00af00\">100</span>, <span style=\"color: #00af00; text-decoration-color: #00af00\">50</span>)        │        <span style=\"color: #00af00; text-decoration-color: #00af00\">10,400</span> │\n",
       "├─────────────────────────────────┼────────────────────────┼───────────────┤\n",
       "│ lstm_1 (<span style=\"color: #0087ff; text-decoration-color: #0087ff\">LSTM</span>)                   │ (<span style=\"color: #00d7ff; text-decoration-color: #00d7ff\">None</span>, <span style=\"color: #00af00; text-decoration-color: #00af00\">100</span>, <span style=\"color: #00af00; text-decoration-color: #00af00\">50</span>)        │        <span style=\"color: #00af00; text-decoration-color: #00af00\">20,200</span> │\n",
       "├─────────────────────────────────┼────────────────────────┼───────────────┤\n",
       "│ lstm_2 (<span style=\"color: #0087ff; text-decoration-color: #0087ff\">LSTM</span>)                   │ (<span style=\"color: #00d7ff; text-decoration-color: #00d7ff\">None</span>, <span style=\"color: #00af00; text-decoration-color: #00af00\">50</span>)             │        <span style=\"color: #00af00; text-decoration-color: #00af00\">20,200</span> │\n",
       "├─────────────────────────────────┼────────────────────────┼───────────────┤\n",
       "│ dense (<span style=\"color: #0087ff; text-decoration-color: #0087ff\">Dense</span>)                   │ (<span style=\"color: #00d7ff; text-decoration-color: #00d7ff\">None</span>, <span style=\"color: #00af00; text-decoration-color: #00af00\">1</span>)              │            <span style=\"color: #00af00; text-decoration-color: #00af00\">51</span> │\n",
       "└─────────────────────────────────┴────────────────────────┴───────────────┘\n",
       "</pre>\n"
      ],
      "text/plain": [
       "┏━━━━━━━━━━━━━━━━━━━━━━━━━━━━━━━━━┳━━━━━━━━━━━━━━━━━━━━━━━━┳━━━━━━━━━━━━━━━┓\n",
       "┃\u001b[1m \u001b[0m\u001b[1mLayer (type)                   \u001b[0m\u001b[1m \u001b[0m┃\u001b[1m \u001b[0m\u001b[1mOutput Shape          \u001b[0m\u001b[1m \u001b[0m┃\u001b[1m \u001b[0m\u001b[1m      Param #\u001b[0m\u001b[1m \u001b[0m┃\n",
       "┡━━━━━━━━━━━━━━━━━━━━━━━━━━━━━━━━━╇━━━━━━━━━━━━━━━━━━━━━━━━╇━━━━━━━━━━━━━━━┩\n",
       "│ lstm (\u001b[38;5;33mLSTM\u001b[0m)                     │ (\u001b[38;5;45mNone\u001b[0m, \u001b[38;5;34m100\u001b[0m, \u001b[38;5;34m50\u001b[0m)        │        \u001b[38;5;34m10,400\u001b[0m │\n",
       "├─────────────────────────────────┼────────────────────────┼───────────────┤\n",
       "│ lstm_1 (\u001b[38;5;33mLSTM\u001b[0m)                   │ (\u001b[38;5;45mNone\u001b[0m, \u001b[38;5;34m100\u001b[0m, \u001b[38;5;34m50\u001b[0m)        │        \u001b[38;5;34m20,200\u001b[0m │\n",
       "├─────────────────────────────────┼────────────────────────┼───────────────┤\n",
       "│ lstm_2 (\u001b[38;5;33mLSTM\u001b[0m)                   │ (\u001b[38;5;45mNone\u001b[0m, \u001b[38;5;34m50\u001b[0m)             │        \u001b[38;5;34m20,200\u001b[0m │\n",
       "├─────────────────────────────────┼────────────────────────┼───────────────┤\n",
       "│ dense (\u001b[38;5;33mDense\u001b[0m)                   │ (\u001b[38;5;45mNone\u001b[0m, \u001b[38;5;34m1\u001b[0m)              │            \u001b[38;5;34m51\u001b[0m │\n",
       "└─────────────────────────────────┴────────────────────────┴───────────────┘\n"
      ]
     },
     "metadata": {},
     "output_type": "display_data"
    },
    {
     "data": {
      "text/html": [
       "<pre style=\"white-space:pre;overflow-x:auto;line-height:normal;font-family:Menlo,'DejaVu Sans Mono',consolas,'Courier New',monospace\"><span style=\"font-weight: bold\"> Total params: </span><span style=\"color: #00af00; text-decoration-color: #00af00\">50,851</span> (198.64 KB)\n",
       "</pre>\n"
      ],
      "text/plain": [
       "\u001b[1m Total params: \u001b[0m\u001b[38;5;34m50,851\u001b[0m (198.64 KB)\n"
      ]
     },
     "metadata": {},
     "output_type": "display_data"
    },
    {
     "data": {
      "text/html": [
       "<pre style=\"white-space:pre;overflow-x:auto;line-height:normal;font-family:Menlo,'DejaVu Sans Mono',consolas,'Courier New',monospace\"><span style=\"font-weight: bold\"> Trainable params: </span><span style=\"color: #00af00; text-decoration-color: #00af00\">50,851</span> (198.64 KB)\n",
       "</pre>\n"
      ],
      "text/plain": [
       "\u001b[1m Trainable params: \u001b[0m\u001b[38;5;34m50,851\u001b[0m (198.64 KB)\n"
      ]
     },
     "metadata": {},
     "output_type": "display_data"
    },
    {
     "data": {
      "text/html": [
       "<pre style=\"white-space:pre;overflow-x:auto;line-height:normal;font-family:Menlo,'DejaVu Sans Mono',consolas,'Courier New',monospace\"><span style=\"font-weight: bold\"> Non-trainable params: </span><span style=\"color: #00af00; text-decoration-color: #00af00\">0</span> (0.00 B)\n",
       "</pre>\n"
      ],
      "text/plain": [
       "\u001b[1m Non-trainable params: \u001b[0m\u001b[38;5;34m0\u001b[0m (0.00 B)\n"
      ]
     },
     "metadata": {},
     "output_type": "display_data"
    }
   ],
   "source": [
    "model.summary()"
   ]
  },
  {
   "cell_type": "code",
   "execution_count": 19,
   "metadata": {},
   "outputs": [
    {
     "name": "stdout",
     "output_type": "stream",
     "text": [
      "Epoch 1/100\n",
      "\u001b[1m39/39\u001b[0m \u001b[32m━━━━━━━━━━━━━━━━━━━━\u001b[0m\u001b[37m\u001b[0m \u001b[1m4s\u001b[0m 51ms/step - loss: 0.0082 - val_loss: 0.0069\n",
      "Epoch 2/100\n",
      "\u001b[1m39/39\u001b[0m \u001b[32m━━━━━━━━━━━━━━━━━━━━\u001b[0m\u001b[37m\u001b[0m \u001b[1m2s\u001b[0m 45ms/step - loss: 4.1498e-04 - val_loss: 0.0025\n",
      "Epoch 3/100\n",
      "\u001b[1m39/39\u001b[0m \u001b[32m━━━━━━━━━━━━━━━━━━━━\u001b[0m\u001b[37m\u001b[0m \u001b[1m2s\u001b[0m 44ms/step - loss: 4.2545e-04 - val_loss: 0.0054\n",
      "Epoch 4/100\n",
      "\u001b[1m39/39\u001b[0m \u001b[32m━━━━━━━━━━━━━━━━━━━━\u001b[0m\u001b[37m\u001b[0m \u001b[1m2s\u001b[0m 45ms/step - loss: 4.9352e-04 - val_loss: 0.0030\n",
      "Epoch 5/100\n",
      "\u001b[1m39/39\u001b[0m \u001b[32m━━━━━━━━━━━━━━━━━━━━\u001b[0m\u001b[37m\u001b[0m \u001b[1m2s\u001b[0m 44ms/step - loss: 3.5556e-04 - val_loss: 0.0020\n",
      "Epoch 6/100\n",
      "\u001b[1m39/39\u001b[0m \u001b[32m━━━━━━━━━━━━━━━━━━━━\u001b[0m\u001b[37m\u001b[0m \u001b[1m2s\u001b[0m 45ms/step - loss: 3.0414e-04 - val_loss: 0.0054\n",
      "Epoch 7/100\n",
      "\u001b[1m39/39\u001b[0m \u001b[32m━━━━━━━━━━━━━━━━━━━━\u001b[0m\u001b[37m\u001b[0m \u001b[1m2s\u001b[0m 44ms/step - loss: 2.9857e-04 - val_loss: 0.0018\n",
      "Epoch 8/100\n",
      "\u001b[1m39/39\u001b[0m \u001b[32m━━━━━━━━━━━━━━━━━━━━\u001b[0m\u001b[37m\u001b[0m \u001b[1m2s\u001b[0m 44ms/step - loss: 2.8730e-04 - val_loss: 0.0031\n",
      "Epoch 9/100\n",
      "\u001b[1m39/39\u001b[0m \u001b[32m━━━━━━━━━━━━━━━━━━━━\u001b[0m\u001b[37m\u001b[0m \u001b[1m2s\u001b[0m 44ms/step - loss: 2.5192e-04 - val_loss: 0.0020\n",
      "Epoch 10/100\n",
      "\u001b[1m39/39\u001b[0m \u001b[32m━━━━━━━━━━━━━━━━━━━━\u001b[0m\u001b[37m\u001b[0m \u001b[1m2s\u001b[0m 44ms/step - loss: 2.8203e-04 - val_loss: 0.0016\n",
      "Epoch 11/100\n",
      "\u001b[1m39/39\u001b[0m \u001b[32m━━━━━━━━━━━━━━━━━━━━\u001b[0m\u001b[37m\u001b[0m \u001b[1m2s\u001b[0m 43ms/step - loss: 1.9760e-04 - val_loss: 0.0017\n",
      "Epoch 12/100\n",
      "\u001b[1m39/39\u001b[0m \u001b[32m━━━━━━━━━━━━━━━━━━━━\u001b[0m\u001b[37m\u001b[0m \u001b[1m2s\u001b[0m 45ms/step - loss: 2.3763e-04 - val_loss: 0.0014\n",
      "Epoch 13/100\n",
      "\u001b[1m39/39\u001b[0m \u001b[32m━━━━━━━━━━━━━━━━━━━━\u001b[0m\u001b[37m\u001b[0m \u001b[1m2s\u001b[0m 44ms/step - loss: 1.8213e-04 - val_loss: 0.0025\n",
      "Epoch 14/100\n",
      "\u001b[1m39/39\u001b[0m \u001b[32m━━━━━━━━━━━━━━━━━━━━\u001b[0m\u001b[37m\u001b[0m \u001b[1m2s\u001b[0m 44ms/step - loss: 1.5955e-04 - val_loss: 0.0015\n",
      "Epoch 15/100\n",
      "\u001b[1m39/39\u001b[0m \u001b[32m━━━━━━━━━━━━━━━━━━━━\u001b[0m\u001b[37m\u001b[0m \u001b[1m2s\u001b[0m 46ms/step - loss: 1.4769e-04 - val_loss: 0.0020\n",
      "Epoch 16/100\n",
      "\u001b[1m39/39\u001b[0m \u001b[32m━━━━━━━━━━━━━━━━━━━━\u001b[0m\u001b[37m\u001b[0m \u001b[1m2s\u001b[0m 44ms/step - loss: 1.1674e-04 - val_loss: 0.0012\n",
      "Epoch 17/100\n",
      "\u001b[1m39/39\u001b[0m \u001b[32m━━━━━━━━━━━━━━━━━━━━\u001b[0m\u001b[37m\u001b[0m \u001b[1m2s\u001b[0m 45ms/step - loss: 1.4403e-04 - val_loss: 0.0011\n",
      "Epoch 18/100\n",
      "\u001b[1m39/39\u001b[0m \u001b[32m━━━━━━━━━━━━━━━━━━━━\u001b[0m\u001b[37m\u001b[0m \u001b[1m2s\u001b[0m 45ms/step - loss: 1.2983e-04 - val_loss: 0.0010\n",
      "Epoch 19/100\n",
      "\u001b[1m39/39\u001b[0m \u001b[32m━━━━━━━━━━━━━━━━━━━━\u001b[0m\u001b[37m\u001b[0m \u001b[1m2s\u001b[0m 45ms/step - loss: 1.7976e-04 - val_loss: 0.0015\n",
      "Epoch 20/100\n",
      "\u001b[1m39/39\u001b[0m \u001b[32m━━━━━━━━━━━━━━━━━━━━\u001b[0m\u001b[37m\u001b[0m \u001b[1m2s\u001b[0m 45ms/step - loss: 1.6358e-04 - val_loss: 0.0024\n",
      "Epoch 21/100\n",
      "\u001b[1m39/39\u001b[0m \u001b[32m━━━━━━━━━━━━━━━━━━━━\u001b[0m\u001b[37m\u001b[0m \u001b[1m2s\u001b[0m 44ms/step - loss: 1.3944e-04 - val_loss: 0.0011\n",
      "Epoch 22/100\n",
      "\u001b[1m39/39\u001b[0m \u001b[32m━━━━━━━━━━━━━━━━━━━━\u001b[0m\u001b[37m\u001b[0m \u001b[1m2s\u001b[0m 43ms/step - loss: 1.1804e-04 - val_loss: 0.0010\n",
      "Epoch 23/100\n",
      "\u001b[1m39/39\u001b[0m \u001b[32m━━━━━━━━━━━━━━━━━━━━\u001b[0m\u001b[37m\u001b[0m \u001b[1m2s\u001b[0m 44ms/step - loss: 1.5303e-04 - val_loss: 0.0014\n",
      "Epoch 24/100\n",
      "\u001b[1m39/39\u001b[0m \u001b[32m━━━━━━━━━━━━━━━━━━━━\u001b[0m\u001b[37m\u001b[0m \u001b[1m2s\u001b[0m 44ms/step - loss: 1.5418e-04 - val_loss: 0.0011\n",
      "Epoch 25/100\n",
      "\u001b[1m39/39\u001b[0m \u001b[32m━━━━━━━━━━━━━━━━━━━━\u001b[0m\u001b[37m\u001b[0m \u001b[1m2s\u001b[0m 44ms/step - loss: 1.1656e-04 - val_loss: 0.0021\n",
      "Epoch 26/100\n",
      "\u001b[1m39/39\u001b[0m \u001b[32m━━━━━━━━━━━━━━━━━━━━\u001b[0m\u001b[37m\u001b[0m \u001b[1m2s\u001b[0m 44ms/step - loss: 1.1852e-04 - val_loss: 0.0013\n",
      "Epoch 27/100\n",
      "\u001b[1m39/39\u001b[0m \u001b[32m━━━━━━━━━━━━━━━━━━━━\u001b[0m\u001b[37m\u001b[0m \u001b[1m2s\u001b[0m 44ms/step - loss: 1.2276e-04 - val_loss: 8.4720e-04\n",
      "Epoch 28/100\n",
      "\u001b[1m39/39\u001b[0m \u001b[32m━━━━━━━━━━━━━━━━━━━━\u001b[0m\u001b[37m\u001b[0m \u001b[1m2s\u001b[0m 45ms/step - loss: 1.2375e-04 - val_loss: 0.0011\n",
      "Epoch 29/100\n",
      "\u001b[1m39/39\u001b[0m \u001b[32m━━━━━━━━━━━━━━━━━━━━\u001b[0m\u001b[37m\u001b[0m \u001b[1m2s\u001b[0m 45ms/step - loss: 1.1009e-04 - val_loss: 0.0015\n",
      "Epoch 30/100\n",
      "\u001b[1m39/39\u001b[0m \u001b[32m━━━━━━━━━━━━━━━━━━━━\u001b[0m\u001b[37m\u001b[0m \u001b[1m2s\u001b[0m 45ms/step - loss: 1.1410e-04 - val_loss: 9.6990e-04\n",
      "Epoch 31/100\n",
      "\u001b[1m39/39\u001b[0m \u001b[32m━━━━━━━━━━━━━━━━━━━━\u001b[0m\u001b[37m\u001b[0m \u001b[1m2s\u001b[0m 45ms/step - loss: 1.1070e-04 - val_loss: 8.4872e-04\n",
      "Epoch 32/100\n",
      "\u001b[1m39/39\u001b[0m \u001b[32m━━━━━━━━━━━━━━━━━━━━\u001b[0m\u001b[37m\u001b[0m \u001b[1m2s\u001b[0m 44ms/step - loss: 1.4206e-04 - val_loss: 8.2307e-04\n",
      "Epoch 33/100\n",
      "\u001b[1m39/39\u001b[0m \u001b[32m━━━━━━━━━━━━━━━━━━━━\u001b[0m\u001b[37m\u001b[0m \u001b[1m2s\u001b[0m 44ms/step - loss: 1.3532e-04 - val_loss: 0.0010\n",
      "Epoch 34/100\n",
      "\u001b[1m39/39\u001b[0m \u001b[32m━━━━━━━━━━━━━━━━━━━━\u001b[0m\u001b[37m\u001b[0m \u001b[1m2s\u001b[0m 44ms/step - loss: 1.0591e-04 - val_loss: 0.0018\n",
      "Epoch 35/100\n",
      "\u001b[1m39/39\u001b[0m \u001b[32m━━━━━━━━━━━━━━━━━━━━\u001b[0m\u001b[37m\u001b[0m \u001b[1m2s\u001b[0m 44ms/step - loss: 2.0031e-04 - val_loss: 0.0013\n",
      "Epoch 36/100\n",
      "\u001b[1m39/39\u001b[0m \u001b[32m━━━━━━━━━━━━━━━━━━━━\u001b[0m\u001b[37m\u001b[0m \u001b[1m2s\u001b[0m 44ms/step - loss: 9.3019e-05 - val_loss: 8.3619e-04\n",
      "Epoch 37/100\n",
      "\u001b[1m39/39\u001b[0m \u001b[32m━━━━━━━━━━━━━━━━━━━━\u001b[0m\u001b[37m\u001b[0m \u001b[1m2s\u001b[0m 44ms/step - loss: 1.0731e-04 - val_loss: 7.5617e-04\n",
      "Epoch 38/100\n",
      "\u001b[1m39/39\u001b[0m \u001b[32m━━━━━━━━━━━━━━━━━━━━\u001b[0m\u001b[37m\u001b[0m \u001b[1m2s\u001b[0m 44ms/step - loss: 1.2391e-04 - val_loss: 0.0020\n",
      "Epoch 39/100\n",
      "\u001b[1m39/39\u001b[0m \u001b[32m━━━━━━━━━━━━━━━━━━━━\u001b[0m\u001b[37m\u001b[0m \u001b[1m2s\u001b[0m 45ms/step - loss: 1.1394e-04 - val_loss: 7.4455e-04\n",
      "Epoch 40/100\n",
      "\u001b[1m39/39\u001b[0m \u001b[32m━━━━━━━━━━━━━━━━━━━━\u001b[0m\u001b[37m\u001b[0m \u001b[1m2s\u001b[0m 44ms/step - loss: 9.7386e-05 - val_loss: 0.0013\n",
      "Epoch 41/100\n",
      "\u001b[1m39/39\u001b[0m \u001b[32m━━━━━━━━━━━━━━━━━━━━\u001b[0m\u001b[37m\u001b[0m \u001b[1m2s\u001b[0m 44ms/step - loss: 8.0058e-05 - val_loss: 0.0010\n",
      "Epoch 42/100\n",
      "\u001b[1m39/39\u001b[0m \u001b[32m━━━━━━━━━━━━━━━━━━━━\u001b[0m\u001b[37m\u001b[0m \u001b[1m2s\u001b[0m 44ms/step - loss: 9.3615e-05 - val_loss: 0.0021\n",
      "Epoch 43/100\n",
      "\u001b[1m39/39\u001b[0m \u001b[32m━━━━━━━━━━━━━━━━━━━━\u001b[0m\u001b[37m\u001b[0m \u001b[1m2s\u001b[0m 44ms/step - loss: 1.0473e-04 - val_loss: 6.9188e-04\n",
      "Epoch 44/100\n",
      "\u001b[1m39/39\u001b[0m \u001b[32m━━━━━━━━━━━━━━━━━━━━\u001b[0m\u001b[37m\u001b[0m \u001b[1m2s\u001b[0m 44ms/step - loss: 9.5311e-05 - val_loss: 7.5418e-04\n",
      "Epoch 45/100\n",
      "\u001b[1m39/39\u001b[0m \u001b[32m━━━━━━━━━━━━━━━━━━━━\u001b[0m\u001b[37m\u001b[0m \u001b[1m2s\u001b[0m 44ms/step - loss: 1.0250e-04 - val_loss: 6.7262e-04\n",
      "Epoch 46/100\n",
      "\u001b[1m39/39\u001b[0m \u001b[32m━━━━━━━━━━━━━━━━━━━━\u001b[0m\u001b[37m\u001b[0m \u001b[1m2s\u001b[0m 44ms/step - loss: 1.1518e-04 - val_loss: 7.1219e-04\n",
      "Epoch 47/100\n",
      "\u001b[1m39/39\u001b[0m \u001b[32m━━━━━━━━━━━━━━━━━━━━\u001b[0m\u001b[37m\u001b[0m \u001b[1m2s\u001b[0m 44ms/step - loss: 1.0720e-04 - val_loss: 7.9819e-04\n",
      "Epoch 48/100\n",
      "\u001b[1m39/39\u001b[0m \u001b[32m━━━━━━━━━━━━━━━━━━━━\u001b[0m\u001b[37m\u001b[0m \u001b[1m2s\u001b[0m 44ms/step - loss: 8.1233e-05 - val_loss: 8.2082e-04\n",
      "Epoch 49/100\n",
      "\u001b[1m39/39\u001b[0m \u001b[32m━━━━━━━━━━━━━━━━━━━━\u001b[0m\u001b[37m\u001b[0m \u001b[1m2s\u001b[0m 44ms/step - loss: 8.3308e-05 - val_loss: 9.0086e-04\n",
      "Epoch 50/100\n",
      "\u001b[1m39/39\u001b[0m \u001b[32m━━━━━━━━━━━━━━━━━━━━\u001b[0m\u001b[37m\u001b[0m \u001b[1m2s\u001b[0m 44ms/step - loss: 7.3266e-05 - val_loss: 7.1012e-04\n",
      "Epoch 51/100\n",
      "\u001b[1m39/39\u001b[0m \u001b[32m━━━━━━━━━━━━━━━━━━━━\u001b[0m\u001b[37m\u001b[0m \u001b[1m2s\u001b[0m 44ms/step - loss: 1.2587e-04 - val_loss: 7.1540e-04\n",
      "Epoch 52/100\n",
      "\u001b[1m39/39\u001b[0m \u001b[32m━━━━━━━━━━━━━━━━━━━━\u001b[0m\u001b[37m\u001b[0m \u001b[1m2s\u001b[0m 44ms/step - loss: 8.3683e-05 - val_loss: 9.8637e-04\n",
      "Epoch 53/100\n",
      "\u001b[1m39/39\u001b[0m \u001b[32m━━━━━━━━━━━━━━━━━━━━\u001b[0m\u001b[37m\u001b[0m \u001b[1m2s\u001b[0m 44ms/step - loss: 7.4673e-05 - val_loss: 6.7788e-04\n",
      "Epoch 54/100\n",
      "\u001b[1m39/39\u001b[0m \u001b[32m━━━━━━━━━━━━━━━━━━━━\u001b[0m\u001b[37m\u001b[0m \u001b[1m2s\u001b[0m 43ms/step - loss: 9.2781e-05 - val_loss: 0.0021\n",
      "Epoch 55/100\n",
      "\u001b[1m39/39\u001b[0m \u001b[32m━━━━━━━━━━━━━━━━━━━━\u001b[0m\u001b[37m\u001b[0m \u001b[1m2s\u001b[0m 44ms/step - loss: 7.5447e-05 - val_loss: 7.9748e-04\n",
      "Epoch 56/100\n",
      "\u001b[1m39/39\u001b[0m \u001b[32m━━━━━━━━━━━━━━━━━━━━\u001b[0m\u001b[37m\u001b[0m \u001b[1m2s\u001b[0m 44ms/step - loss: 7.5065e-05 - val_loss: 5.8150e-04\n",
      "Epoch 57/100\n",
      "\u001b[1m39/39\u001b[0m \u001b[32m━━━━━━━━━━━━━━━━━━━━\u001b[0m\u001b[37m\u001b[0m \u001b[1m2s\u001b[0m 43ms/step - loss: 7.0118e-05 - val_loss: 0.0019\n",
      "Epoch 58/100\n",
      "\u001b[1m39/39\u001b[0m \u001b[32m━━━━━━━━━━━━━━━━━━━━\u001b[0m\u001b[37m\u001b[0m \u001b[1m2s\u001b[0m 44ms/step - loss: 6.8327e-05 - val_loss: 6.0982e-04\n",
      "Epoch 59/100\n",
      "\u001b[1m39/39\u001b[0m \u001b[32m━━━━━━━━━━━━━━━━━━━━\u001b[0m\u001b[37m\u001b[0m \u001b[1m2s\u001b[0m 44ms/step - loss: 7.3804e-05 - val_loss: 5.4123e-04\n",
      "Epoch 60/100\n",
      "\u001b[1m39/39\u001b[0m \u001b[32m━━━━━━━━━━━━━━━━━━━━\u001b[0m\u001b[37m\u001b[0m \u001b[1m2s\u001b[0m 44ms/step - loss: 6.7464e-05 - val_loss: 0.0026\n",
      "Epoch 61/100\n",
      "\u001b[1m39/39\u001b[0m \u001b[32m━━━━━━━━━━━━━━━━━━━━\u001b[0m\u001b[37m\u001b[0m \u001b[1m2s\u001b[0m 44ms/step - loss: 9.4398e-05 - val_loss: 5.3199e-04\n",
      "Epoch 62/100\n",
      "\u001b[1m39/39\u001b[0m \u001b[32m━━━━━━━━━━━━━━━━━━━━\u001b[0m\u001b[37m\u001b[0m \u001b[1m2s\u001b[0m 44ms/step - loss: 5.7863e-05 - val_loss: 0.0017\n",
      "Epoch 63/100\n",
      "\u001b[1m39/39\u001b[0m \u001b[32m━━━━━━━━━━━━━━━━━━━━\u001b[0m\u001b[37m\u001b[0m \u001b[1m2s\u001b[0m 44ms/step - loss: 6.2596e-05 - val_loss: 7.5725e-04\n",
      "Epoch 64/100\n",
      "\u001b[1m39/39\u001b[0m \u001b[32m━━━━━━━━━━━━━━━━━━━━\u001b[0m\u001b[37m\u001b[0m \u001b[1m2s\u001b[0m 44ms/step - loss: 7.6563e-05 - val_loss: 7.3165e-04\n",
      "Epoch 65/100\n",
      "\u001b[1m39/39\u001b[0m \u001b[32m━━━━━━━━━━━━━━━━━━━━\u001b[0m\u001b[37m\u001b[0m \u001b[1m2s\u001b[0m 44ms/step - loss: 7.2799e-05 - val_loss: 5.2117e-04\n",
      "Epoch 66/100\n",
      "\u001b[1m39/39\u001b[0m \u001b[32m━━━━━━━━━━━━━━━━━━━━\u001b[0m\u001b[37m\u001b[0m \u001b[1m2s\u001b[0m 44ms/step - loss: 7.9788e-05 - val_loss: 7.6664e-04\n",
      "Epoch 67/100\n",
      "\u001b[1m39/39\u001b[0m \u001b[32m━━━━━━━━━━━━━━━━━━━━\u001b[0m\u001b[37m\u001b[0m \u001b[1m2s\u001b[0m 44ms/step - loss: 7.3862e-05 - val_loss: 9.5155e-04\n",
      "Epoch 68/100\n",
      "\u001b[1m39/39\u001b[0m \u001b[32m━━━━━━━━━━━━━━━━━━━━\u001b[0m\u001b[37m\u001b[0m \u001b[1m2s\u001b[0m 44ms/step - loss: 5.6836e-05 - val_loss: 5.8070e-04\n",
      "Epoch 69/100\n",
      "\u001b[1m39/39\u001b[0m \u001b[32m━━━━━━━━━━━━━━━━━━━━\u001b[0m\u001b[37m\u001b[0m \u001b[1m2s\u001b[0m 44ms/step - loss: 1.0092e-04 - val_loss: 9.3586e-04\n",
      "Epoch 70/100\n",
      "\u001b[1m39/39\u001b[0m \u001b[32m━━━━━━━━━━━━━━━━━━━━\u001b[0m\u001b[37m\u001b[0m \u001b[1m2s\u001b[0m 44ms/step - loss: 5.5482e-05 - val_loss: 7.2993e-04\n",
      "Epoch 71/100\n",
      "\u001b[1m39/39\u001b[0m \u001b[32m━━━━━━━━━━━━━━━━━━━━\u001b[0m\u001b[37m\u001b[0m \u001b[1m2s\u001b[0m 44ms/step - loss: 6.0869e-05 - val_loss: 7.3565e-04\n",
      "Epoch 72/100\n",
      "\u001b[1m39/39\u001b[0m \u001b[32m━━━━━━━━━━━━━━━━━━━━\u001b[0m\u001b[37m\u001b[0m \u001b[1m2s\u001b[0m 44ms/step - loss: 5.6559e-05 - val_loss: 5.6940e-04\n",
      "Epoch 73/100\n",
      "\u001b[1m39/39\u001b[0m \u001b[32m━━━━━━━━━━━━━━━━━━━━\u001b[0m\u001b[37m\u001b[0m \u001b[1m2s\u001b[0m 43ms/step - loss: 7.6477e-05 - val_loss: 9.3317e-04\n",
      "Epoch 74/100\n",
      "\u001b[1m39/39\u001b[0m \u001b[32m━━━━━━━━━━━━━━━━━━━━\u001b[0m\u001b[37m\u001b[0m \u001b[1m2s\u001b[0m 44ms/step - loss: 6.2637e-05 - val_loss: 7.9214e-04\n",
      "Epoch 75/100\n",
      "\u001b[1m39/39\u001b[0m \u001b[32m━━━━━━━━━━━━━━━━━━━━\u001b[0m\u001b[37m\u001b[0m \u001b[1m2s\u001b[0m 45ms/step - loss: 5.5034e-05 - val_loss: 6.5662e-04\n",
      "Epoch 76/100\n",
      "\u001b[1m39/39\u001b[0m \u001b[32m━━━━━━━━━━━━━━━━━━━━\u001b[0m\u001b[37m\u001b[0m \u001b[1m2s\u001b[0m 44ms/step - loss: 5.4843e-05 - val_loss: 0.0018\n",
      "Epoch 77/100\n",
      "\u001b[1m39/39\u001b[0m \u001b[32m━━━━━━━━━━━━━━━━━━━━\u001b[0m\u001b[37m\u001b[0m \u001b[1m2s\u001b[0m 44ms/step - loss: 7.2125e-05 - val_loss: 4.3841e-04\n",
      "Epoch 78/100\n",
      "\u001b[1m39/39\u001b[0m \u001b[32m━━━━━━━━━━━━━━━━━━━━\u001b[0m\u001b[37m\u001b[0m \u001b[1m2s\u001b[0m 44ms/step - loss: 7.2054e-05 - val_loss: 7.1003e-04\n",
      "Epoch 79/100\n",
      "\u001b[1m39/39\u001b[0m \u001b[32m━━━━━━━━━━━━━━━━━━━━\u001b[0m\u001b[37m\u001b[0m \u001b[1m2s\u001b[0m 45ms/step - loss: 5.9598e-05 - val_loss: 4.5227e-04\n",
      "Epoch 80/100\n",
      "\u001b[1m39/39\u001b[0m \u001b[32m━━━━━━━━━━━━━━━━━━━━\u001b[0m\u001b[37m\u001b[0m \u001b[1m2s\u001b[0m 46ms/step - loss: 5.1774e-05 - val_loss: 0.0010\n",
      "Epoch 81/100\n",
      "\u001b[1m39/39\u001b[0m \u001b[32m━━━━━━━━━━━━━━━━━━━━\u001b[0m\u001b[37m\u001b[0m \u001b[1m2s\u001b[0m 45ms/step - loss: 6.2703e-05 - val_loss: 0.0015\n",
      "Epoch 82/100\n",
      "\u001b[1m39/39\u001b[0m \u001b[32m━━━━━━━━━━━━━━━━━━━━\u001b[0m\u001b[37m\u001b[0m \u001b[1m2s\u001b[0m 43ms/step - loss: 9.6903e-05 - val_loss: 5.1755e-04\n",
      "Epoch 83/100\n",
      "\u001b[1m39/39\u001b[0m \u001b[32m━━━━━━━━━━━━━━━━━━━━\u001b[0m\u001b[37m\u001b[0m \u001b[1m2s\u001b[0m 45ms/step - loss: 7.7189e-05 - val_loss: 6.9155e-04\n",
      "Epoch 84/100\n",
      "\u001b[1m39/39\u001b[0m \u001b[32m━━━━━━━━━━━━━━━━━━━━\u001b[0m\u001b[37m\u001b[0m \u001b[1m2s\u001b[0m 45ms/step - loss: 5.5888e-05 - val_loss: 7.3668e-04\n",
      "Epoch 85/100\n",
      "\u001b[1m39/39\u001b[0m \u001b[32m━━━━━━━━━━━━━━━━━━━━\u001b[0m\u001b[37m\u001b[0m \u001b[1m2s\u001b[0m 44ms/step - loss: 5.6676e-05 - val_loss: 5.2227e-04\n",
      "Epoch 86/100\n",
      "\u001b[1m39/39\u001b[0m \u001b[32m━━━━━━━━━━━━━━━━━━━━\u001b[0m\u001b[37m\u001b[0m \u001b[1m2s\u001b[0m 44ms/step - loss: 5.5443e-05 - val_loss: 5.3282e-04\n",
      "Epoch 87/100\n",
      "\u001b[1m39/39\u001b[0m \u001b[32m━━━━━━━━━━━━━━━━━━━━\u001b[0m\u001b[37m\u001b[0m \u001b[1m2s\u001b[0m 44ms/step - loss: 6.4105e-05 - val_loss: 6.3414e-04\n",
      "Epoch 88/100\n",
      "\u001b[1m39/39\u001b[0m \u001b[32m━━━━━━━━━━━━━━━━━━━━\u001b[0m\u001b[37m\u001b[0m \u001b[1m2s\u001b[0m 44ms/step - loss: 5.4290e-05 - val_loss: 4.0418e-04\n",
      "Epoch 89/100\n",
      "\u001b[1m39/39\u001b[0m \u001b[32m━━━━━━━━━━━━━━━━━━━━\u001b[0m\u001b[37m\u001b[0m \u001b[1m2s\u001b[0m 44ms/step - loss: 6.4617e-05 - val_loss: 0.0011\n",
      "Epoch 90/100\n",
      "\u001b[1m39/39\u001b[0m \u001b[32m━━━━━━━━━━━━━━━━━━━━\u001b[0m\u001b[37m\u001b[0m \u001b[1m2s\u001b[0m 43ms/step - loss: 7.5522e-05 - val_loss: 0.0011\n",
      "Epoch 91/100\n",
      "\u001b[1m39/39\u001b[0m \u001b[32m━━━━━━━━━━━━━━━━━━━━\u001b[0m\u001b[37m\u001b[0m \u001b[1m2s\u001b[0m 44ms/step - loss: 6.5143e-05 - val_loss: 4.3399e-04\n",
      "Epoch 92/100\n",
      "\u001b[1m39/39\u001b[0m \u001b[32m━━━━━━━━━━━━━━━━━━━━\u001b[0m\u001b[37m\u001b[0m \u001b[1m2s\u001b[0m 44ms/step - loss: 6.5259e-05 - val_loss: 4.9901e-04\n",
      "Epoch 93/100\n",
      "\u001b[1m39/39\u001b[0m \u001b[32m━━━━━━━━━━━━━━━━━━━━\u001b[0m\u001b[37m\u001b[0m \u001b[1m2s\u001b[0m 44ms/step - loss: 5.6382e-05 - val_loss: 8.6740e-04\n",
      "Epoch 94/100\n",
      "\u001b[1m39/39\u001b[0m \u001b[32m━━━━━━━━━━━━━━━━━━━━\u001b[0m\u001b[37m\u001b[0m \u001b[1m2s\u001b[0m 45ms/step - loss: 6.4945e-05 - val_loss: 4.4447e-04\n",
      "Epoch 95/100\n",
      "\u001b[1m39/39\u001b[0m \u001b[32m━━━━━━━━━━━━━━━━━━━━\u001b[0m\u001b[37m\u001b[0m \u001b[1m2s\u001b[0m 43ms/step - loss: 4.3436e-05 - val_loss: 4.1798e-04\n",
      "Epoch 96/100\n",
      "\u001b[1m39/39\u001b[0m \u001b[32m━━━━━━━━━━━━━━━━━━━━\u001b[0m\u001b[37m\u001b[0m \u001b[1m2s\u001b[0m 43ms/step - loss: 5.7031e-05 - val_loss: 8.2939e-04\n",
      "Epoch 97/100\n",
      "\u001b[1m39/39\u001b[0m \u001b[32m━━━━━━━━━━━━━━━━━━━━\u001b[0m\u001b[37m\u001b[0m \u001b[1m2s\u001b[0m 45ms/step - loss: 4.4691e-05 - val_loss: 4.5999e-04\n",
      "Epoch 98/100\n",
      "\u001b[1m39/39\u001b[0m \u001b[32m━━━━━━━━━━━━━━━━━━━━\u001b[0m\u001b[37m\u001b[0m \u001b[1m2s\u001b[0m 45ms/step - loss: 5.6673e-05 - val_loss: 6.3404e-04\n",
      "Epoch 99/100\n",
      "\u001b[1m39/39\u001b[0m \u001b[32m━━━━━━━━━━━━━━━━━━━━\u001b[0m\u001b[37m\u001b[0m \u001b[1m2s\u001b[0m 45ms/step - loss: 5.3519e-05 - val_loss: 5.1534e-04\n",
      "Epoch 100/100\n",
      "\u001b[1m39/39\u001b[0m \u001b[32m━━━━━━━━━━━━━━━━━━━━\u001b[0m\u001b[37m\u001b[0m \u001b[1m2s\u001b[0m 45ms/step - loss: 6.1617e-05 - val_loss: 5.5198e-04\n"
     ]
    },
    {
     "data": {
      "text/plain": [
       "<keras.src.callbacks.history.History at 0x1629b929390>"
      ]
     },
     "execution_count": 19,
     "metadata": {},
     "output_type": "execute_result"
    }
   ],
   "source": [
    "model.fit(X_train, y_train, validation_data=(X_test, y_test), epochs=100, batch_size=64, verbose=1)"
   ]
  },
  {
   "cell_type": "code",
   "execution_count": 20,
   "metadata": {},
   "outputs": [
    {
     "name": "stdout",
     "output_type": "stream",
     "text": [
      "\u001b[1m77/77\u001b[0m \u001b[32m━━━━━━━━━━━━━━━━━━━━\u001b[0m\u001b[37m\u001b[0m \u001b[1m1s\u001b[0m 12ms/step\n",
      "\u001b[1m32/32\u001b[0m \u001b[32m━━━━━━━━━━━━━━━━━━━━\u001b[0m\u001b[37m\u001b[0m \u001b[1m0s\u001b[0m 9ms/step\n"
     ]
    }
   ],
   "source": [
    "#Do the prediction and check performande metrics\n",
    "train_predict=model.predict(X_train)\n",
    "test_predict=model.predict(X_test)"
   ]
  },
  {
   "cell_type": "code",
   "execution_count": 21,
   "metadata": {},
   "outputs": [],
   "source": [
    "#Transform back to original form\n",
    "train_predict=scaler.inverse_transform(train_predict)\n",
    "test_predict=scaler.inverse_transform(test_predict)"
   ]
  },
  {
   "cell_type": "code",
   "execution_count": 22,
   "metadata": {},
   "outputs": [
    {
     "data": {
      "text/plain": [
       "10631.587106744577"
      ]
     },
     "execution_count": 22,
     "metadata": {},
     "output_type": "execute_result"
    }
   ],
   "source": [
    "#Calculate the RMSE performance metrics for the train data\n",
    "math.sqrt(mean_squared_error(y_train, train_predict))"
   ]
  },
  {
   "cell_type": "code",
   "execution_count": 23,
   "metadata": {},
   "outputs": [
    {
     "data": {
      "text/plain": [
       "37354.908717650294"
      ]
     },
     "execution_count": 23,
     "metadata": {},
     "output_type": "execute_result"
    }
   ],
   "source": [
    "#Calculate the RMSE performance metrics for the test data\n",
    "math.sqrt(mean_squared_error(y_test, test_predict))"
   ]
  },
  {
   "cell_type": "code",
   "execution_count": 24,
   "metadata": {},
   "outputs": [],
   "source": [
    "#Plotting\n",
    "#Chnge train predictions for plotting\n",
    "look_back = 100\n",
    "trainPredictPlot = np.empty_like(bitcoin_prices)\n",
    "trainPredictPlot[:,:] = np.nan\n",
    "trainPredictPlot[look_back:len(train_predict) + look_back, :] = train_predict"
   ]
  },
  {
   "cell_type": "code",
   "execution_count": 25,
   "metadata": {},
   "outputs": [],
   "source": [
    "#Change test predictions for plotting\n",
    "testPredictPlot = np.empty_like(bitcoin_prices)\n",
    "testPredictPlot[:,:] = np.nan\n",
    "testPredictPlot[len(train_predict) + (look_back *2) + 1: len(bitcoin_prices) -1, :] = test_predict"
   ]
  },
  {
   "cell_type": "code",
   "execution_count": 26,
   "metadata": {},
   "outputs": [
    {
     "name": "stderr",
     "output_type": "stream",
     "text": [
      "No artists with labels found to put in legend.  Note that artists whose label start with an underscore are ignored when legend() is called with no argument.\n"
     ]
    },
    {
     "data": {
      "image/png": "[encoded data removed]",
      "text/plain": [
       "<Figure size 640x480 with 1 Axes>"
      ]
     },
     "metadata": {},
     "output_type": "display_data"
    }
   ],
   "source": [
    "#Plot baseline and predictions\n",
    "\n",
    "plt.plot(scaler.inverse_transform(bitcoin_prices))\n",
    "plt.plot(trainPredictPlot)\n",
    "plt.plot(testPredictPlot)\n",
    "plt.legend()\n",
    "plt.show()"
   ]
  },
  {
   "cell_type": "code",
   "execution_count": 27,
   "metadata": {},
   "outputs": [
    {
     "data": {
      "text/plain": [
       "1097"
      ]
     },
     "execution_count": 27,
     "metadata": {},
     "output_type": "execute_result"
    }
   ],
   "source": [
    "#Looking the len of the test data because we will use only the last 100 rows to predict the next 10 days\n",
    "len(test_data)"
   ]
  },
  {
   "cell_type": "code",
   "execution_count": 29,
   "metadata": {},
   "outputs": [
    {
     "data": {
      "text/plain": [
       "(1, 100)"
      ]
     },
     "execution_count": 29,
     "metadata": {},
     "output_type": "execute_result"
    }
   ],
   "source": [
    "#Having only the 100 rows we need\n",
    "X_input= test_data[997:].reshape(1,-1)\n",
    "X_input.shape"
   ]
  },
  {
   "cell_type": "code",
   "execution_count": 31,
   "metadata": {},
   "outputs": [],
   "source": [
    "#Convert into a list\n",
    "temp_input= list(X_input)\n",
    "temp_input=temp_input[0].tolist()"
   ]
  },
  {
   "cell_type": "code",
   "execution_count": 33,
   "metadata": {},
   "outputs": [
    {
     "name": "stdout",
     "output_type": "stream",
     "text": [
      "0 day input [0.58086402 0.58957167 0.58440304 0.56415652 0.56903022 0.56968042\n",
      " 0.56814135 0.54033942 0.544899   0.54760402 0.54554234 0.57127024\n",
      " 0.57551707 0.57427978 0.59168823 0.58683784 0.58182147 0.5886924\n",
      " 0.59024655 0.58765401 0.58183382 0.58342227 0.58877882 0.60595407\n",
      " 0.61903338 0.64419339 0.6528448  0.65996538 0.68279073 0.67970025\n",
      " 0.70804539 0.70967636 0.71287108 0.70617437 0.71264201 0.70806185\n",
      " 0.71464471 0.70908515 0.70170806 0.69375348 0.70515381 0.70722647\n",
      " 0.74525592 0.78038693 0.85461596 0.83680697 0.85365713 0.84812637\n",
      " 0.86378177 0.93420977 0.87279119 0.90417331 0.91480273 0.93286412\n",
      " 0.9355321  0.94373908 0.98673277 0.97810604 1.         0.97697164\n",
      " 0.95058257 0.89366322 0.93587092 0.92493697 0.84888768 0.92850206\n",
      " 0.89626399 0.8726938  0.87615464 0.91969427 0.91045195 0.88814068\n",
      " 0.87221247 0.86049467 0.85538036 0.85536778 0.85804379 0.86134094\n",
      " 0.86408162 0.86594087 0.86712843 0.86802179 0.86890262 0.86984903\n",
      " 0.8707639  0.87146729 0.87179232 0.87164617 0.87102348 0.86998898\n",
      " 0.86864263 0.86709005 0.86542356 0.86371571 0.86202365 0.86039233\n",
      " 0.85886008 0.8574596  0.85621709 0.85515046]\n",
      "0 day output [[0.854268]]\n",
      "1 day input [0.58957167 0.58440304 0.56415652 0.56903022 0.56968042 0.56814135\n",
      " 0.54033942 0.544899   0.54760402 0.54554234 0.57127024 0.57551707\n",
      " 0.57427978 0.59168823 0.58683784 0.58182147 0.5886924  0.59024655\n",
      " 0.58765401 0.58183382 0.58342227 0.58877882 0.60595407 0.61903338\n",
      " 0.64419339 0.6528448  0.65996538 0.68279073 0.67970025 0.70804539\n",
      " 0.70967636 0.71287108 0.70617437 0.71264201 0.70806185 0.71464471\n",
      " 0.70908515 0.70170806 0.69375348 0.70515381 0.70722647 0.74525592\n",
      " 0.78038693 0.85461596 0.83680697 0.85365713 0.84812637 0.86378177\n",
      " 0.93420977 0.87279119 0.90417331 0.91480273 0.93286412 0.9355321\n",
      " 0.94373908 0.98673277 0.97810604 1.         0.97697164 0.95058257\n",
      " 0.89366322 0.93587092 0.92493697 0.84888768 0.92850206 0.89626399\n",
      " 0.8726938  0.87615464 0.91969427 0.91045195 0.88814068 0.87221247\n",
      " 0.86049467 0.85538036 0.85536778 0.85804379 0.86134094 0.86408162\n",
      " 0.86594087 0.86712843 0.86802179 0.86890262 0.86984903 0.8707639\n",
      " 0.87146729 0.87179232 0.87164617 0.87102348 0.86998898 0.86864263\n",
      " 0.86709005 0.86542356 0.86371571 0.86202365 0.86039233 0.85886008\n",
      " 0.8574596  0.85621709 0.85515046 0.85426801]\n",
      "1 day output [[0.8535674]]\n",
      "2 day input [0.58440304 0.56415652 0.56903022 0.56968042 0.56814135 0.54033942\n",
      " 0.544899   0.54760402 0.54554234 0.57127024 0.57551707 0.57427978\n",
      " 0.59168823 0.58683784 0.58182147 0.5886924  0.59024655 0.58765401\n",
      " 0.58183382 0.58342227 0.58877882 0.60595407 0.61903338 0.64419339\n",
      " 0.6528448  0.65996538 0.68279073 0.67970025 0.70804539 0.70967636\n",
      " 0.71287108 0.70617437 0.71264201 0.70806185 0.71464471 0.70908515\n",
      " 0.70170806 0.69375348 0.70515381 0.70722647 0.74525592 0.78038693\n",
      " 0.85461596 0.83680697 0.85365713 0.84812637 0.86378177 0.93420977\n",
      " 0.87279119 0.90417331 0.91480273 0.93286412 0.9355321  0.94373908\n",
      " 0.98673277 0.97810604 1.         0.97697164 0.95058257 0.89366322\n",
      " 0.93587092 0.92493697 0.84888768 0.92850206 0.89626399 0.8726938\n",
      " 0.87615464 0.91969427 0.91045195 0.88814068 0.87221247 0.86049467\n",
      " 0.85538036 0.85536778 0.85804379 0.86134094 0.86408162 0.86594087\n",
      " 0.86712843 0.86802179 0.86890262 0.86984903 0.8707639  0.87146729\n",
      " 0.87179232 0.87164617 0.87102348 0.86998898 0.86864263 0.86709005\n",
      " 0.86542356 0.86371571 0.86202365 0.86039233 0.85886008 0.8574596\n",
      " 0.85621709 0.85515046 0.85426801 0.85356742]\n",
      "2 day output [[0.8530374]]\n",
      "3 day input [0.56415652 0.56903022 0.56968042 0.56814135 0.54033942 0.544899\n",
      " 0.54760402 0.54554234 0.57127024 0.57551707 0.57427978 0.59168823\n",
      " 0.58683784 0.58182147 0.5886924  0.59024655 0.58765401 0.58183382\n",
      " 0.58342227 0.58877882 0.60595407 0.61903338 0.64419339 0.6528448\n",
      " 0.65996538 0.68279073 0.67970025 0.70804539 0.70967636 0.71287108\n",
      " 0.70617437 0.71264201 0.70806185 0.71464471 0.70908515 0.70170806\n",
      " 0.69375348 0.70515381 0.70722647 0.74525592 0.78038693 0.85461596\n",
      " 0.83680697 0.85365713 0.84812637 0.86378177 0.93420977 0.87279119\n",
      " 0.90417331 0.91480273 0.93286412 0.9355321  0.94373908 0.98673277\n",
      " 0.97810604 1.         0.97697164 0.95058257 0.89366322 0.93587092\n",
      " 0.92493697 0.84888768 0.92850206 0.89626399 0.8726938  0.87615464\n",
      " 0.91969427 0.91045195 0.88814068 0.87221247 0.86049467 0.85538036\n",
      " 0.85536778 0.85804379 0.86134094 0.86408162 0.86594087 0.86712843\n",
      " 0.86802179 0.86890262 0.86984903 0.8707639  0.87146729 0.87179232\n",
      " 0.87164617 0.87102348 0.86998898 0.86864263 0.86709005 0.86542356\n",
      " 0.86371571 0.86202365 0.86039233 0.85886008 0.8574596  0.85621709\n",
      " 0.85515046 0.85426801 0.85356742 0.85303742]\n",
      "3 day output [[0.8526597]]\n",
      "4 day input [0.56903022 0.56968042 0.56814135 0.54033942 0.544899   0.54760402\n",
      " 0.54554234 0.57127024 0.57551707 0.57427978 0.59168823 0.58683784\n",
      " 0.58182147 0.5886924  0.59024655 0.58765401 0.58183382 0.58342227\n",
      " 0.58877882 0.60595407 0.61903338 0.64419339 0.6528448  0.65996538\n",
      " 0.68279073 0.67970025 0.70804539 0.70967636 0.71287108 0.70617437\n",
      " 0.71264201 0.70806185 0.71464471 0.70908515 0.70170806 0.69375348\n",
      " 0.70515381 0.70722647 0.74525592 0.78038693 0.85461596 0.83680697\n",
      " 0.85365713 0.84812637 0.86378177 0.93420977 0.87279119 0.90417331\n",
      " 0.91480273 0.93286412 0.9355321  0.94373908 0.98673277 0.97810604\n",
      " 1.         0.97697164 0.95058257 0.89366322 0.93587092 0.92493697\n",
      " 0.84888768 0.92850206 0.89626399 0.8726938  0.87615464 0.91969427\n",
      " 0.91045195 0.88814068 0.87221247 0.86049467 0.85538036 0.85536778\n",
      " 0.85804379 0.86134094 0.86408162 0.86594087 0.86712843 0.86802179\n",
      " 0.86890262 0.86984903 0.8707639  0.87146729 0.87179232 0.87164617\n",
      " 0.87102348 0.86998898 0.86864263 0.86709005 0.86542356 0.86371571\n",
      " 0.86202365 0.86039233 0.85886008 0.8574596  0.85621709 0.85515046\n",
      " 0.85426801 0.85356742 0.85303742 0.8526597 ]\n",
      "4 day output [[0.85240996]]\n",
      "5 day input [0.56968042 0.56814135 0.54033942 0.544899   0.54760402 0.54554234\n",
      " 0.57127024 0.57551707 0.57427978 0.59168823 0.58683784 0.58182147\n",
      " 0.5886924  0.59024655 0.58765401 0.58183382 0.58342227 0.58877882\n",
      " 0.60595407 0.61903338 0.64419339 0.6528448  0.65996538 0.68279073\n",
      " 0.67970025 0.70804539 0.70967636 0.71287108 0.70617437 0.71264201\n",
      " 0.70806185 0.71464471 0.70908515 0.70170806 0.69375348 0.70515381\n",
      " 0.70722647 0.74525592 0.78038693 0.85461596 0.83680697 0.85365713\n",
      " 0.84812637 0.86378177 0.93420977 0.87279119 0.90417331 0.91480273\n",
      " 0.93286412 0.9355321  0.94373908 0.98673277 0.97810604 1.\n",
      " 0.97697164 0.95058257 0.89366322 0.93587092 0.92493697 0.84888768\n",
      " 0.92850206 0.89626399 0.8726938  0.87615464 0.91969427 0.91045195\n",
      " 0.88814068 0.87221247 0.86049467 0.85538036 0.85536778 0.85804379\n",
      " 0.86134094 0.86408162 0.86594087 0.86712843 0.86802179 0.86890262\n",
      " 0.86984903 0.8707639  0.87146729 0.87179232 0.87164617 0.87102348\n",
      " 0.86998898 0.86864263 0.86709005 0.86542356 0.86371571 0.86202365\n",
      " 0.86039233 0.85886008 0.8574596  0.85621709 0.85515046 0.85426801\n",
      " 0.85356742 0.85303742 0.8526597  0.85240996]\n",
      "5 day output [[0.85226196]]\n",
      "6 day input [0.56814135 0.54033942 0.544899   0.54760402 0.54554234 0.57127024\n",
      " 0.57551707 0.57427978 0.59168823 0.58683784 0.58182147 0.5886924\n",
      " 0.59024655 0.58765401 0.58183382 0.58342227 0.58877882 0.60595407\n",
      " 0.61903338 0.64419339 0.6528448  0.65996538 0.68279073 0.67970025\n",
      " 0.70804539 0.70967636 0.71287108 0.70617437 0.71264201 0.70806185\n",
      " 0.71464471 0.70908515 0.70170806 0.69375348 0.70515381 0.70722647\n",
      " 0.74525592 0.78038693 0.85461596 0.83680697 0.85365713 0.84812637\n",
      " 0.86378177 0.93420977 0.87279119 0.90417331 0.91480273 0.93286412\n",
      " 0.9355321  0.94373908 0.98673277 0.97810604 1.         0.97697164\n",
      " 0.95058257 0.89366322 0.93587092 0.92493697 0.84888768 0.92850206\n",
      " 0.89626399 0.8726938  0.87615464 0.91969427 0.91045195 0.88814068\n",
      " 0.87221247 0.86049467 0.85538036 0.85536778 0.85804379 0.86134094\n",
      " 0.86408162 0.86594087 0.86712843 0.86802179 0.86890262 0.86984903\n",
      " 0.8707639  0.87146729 0.87179232 0.87164617 0.87102348 0.86998898\n",
      " 0.86864263 0.86709005 0.86542356 0.86371571 0.86202365 0.86039233\n",
      " 0.85886008 0.8574596  0.85621709 0.85515046 0.85426801 0.85356742\n",
      " 0.85303742 0.8526597  0.85240996 0.85226196]\n",
      "6 day output [[0.8521877]]\n",
      "7 day input [0.54033942 0.544899   0.54760402 0.54554234 0.57127024 0.57551707\n",
      " 0.57427978 0.59168823 0.58683784 0.58182147 0.5886924  0.59024655\n",
      " 0.58765401 0.58183382 0.58342227 0.58877882 0.60595407 0.61903338\n",
      " 0.64419339 0.6528448  0.65996538 0.68279073 0.67970025 0.70804539\n",
      " 0.70967636 0.71287108 0.70617437 0.71264201 0.70806185 0.71464471\n",
      " 0.70908515 0.70170806 0.69375348 0.70515381 0.70722647 0.74525592\n",
      " 0.78038693 0.85461596 0.83680697 0.85365713 0.84812637 0.86378177\n",
      " 0.93420977 0.87279119 0.90417331 0.91480273 0.93286412 0.9355321\n",
      " 0.94373908 0.98673277 0.97810604 1.         0.97697164 0.95058257\n",
      " 0.89366322 0.93587092 0.92493697 0.84888768 0.92850206 0.89626399\n",
      " 0.8726938  0.87615464 0.91969427 0.91045195 0.88814068 0.87221247\n",
      " 0.86049467 0.85538036 0.85536778 0.85804379 0.86134094 0.86408162\n",
      " 0.86594087 0.86712843 0.86802179 0.86890262 0.86984903 0.8707639\n",
      " 0.87146729 0.87179232 0.87164617 0.87102348 0.86998898 0.86864263\n",
      " 0.86709005 0.86542356 0.86371571 0.86202365 0.86039233 0.85886008\n",
      " 0.8574596  0.85621709 0.85515046 0.85426801 0.85356742 0.85303742\n",
      " 0.8526597  0.85240996 0.85226196 0.85218769]\n",
      "7 day output [[0.8521601]]\n",
      "8 day input [0.544899   0.54760402 0.54554234 0.57127024 0.57551707 0.57427978\n",
      " 0.59168823 0.58683784 0.58182147 0.5886924  0.59024655 0.58765401\n",
      " 0.58183382 0.58342227 0.58877882 0.60595407 0.61903338 0.64419339\n",
      " 0.6528448  0.65996538 0.68279073 0.67970025 0.70804539 0.70967636\n",
      " 0.71287108 0.70617437 0.71264201 0.70806185 0.71464471 0.70908515\n",
      " 0.70170806 0.69375348 0.70515381 0.70722647 0.74525592 0.78038693\n",
      " 0.85461596 0.83680697 0.85365713 0.84812637 0.86378177 0.93420977\n",
      " 0.87279119 0.90417331 0.91480273 0.93286412 0.9355321  0.94373908\n",
      " 0.98673277 0.97810604 1.         0.97697164 0.95058257 0.89366322\n",
      " 0.93587092 0.92493697 0.84888768 0.92850206 0.89626399 0.8726938\n",
      " 0.87615464 0.91969427 0.91045195 0.88814068 0.87221247 0.86049467\n",
      " 0.85538036 0.85536778 0.85804379 0.86134094 0.86408162 0.86594087\n",
      " 0.86712843 0.86802179 0.86890262 0.86984903 0.8707639  0.87146729\n",
      " 0.87179232 0.87164617 0.87102348 0.86998898 0.86864263 0.86709005\n",
      " 0.86542356 0.86371571 0.86202365 0.86039233 0.85886008 0.8574596\n",
      " 0.85621709 0.85515046 0.85426801 0.85356742 0.85303742 0.8526597\n",
      " 0.85240996 0.85226196 0.85218769 0.8521601 ]\n",
      "8 day output [[0.8521541]]\n",
      "9 day input [0.54760402 0.54554234 0.57127024 0.57551707 0.57427978 0.59168823\n",
      " 0.58683784 0.58182147 0.5886924  0.59024655 0.58765401 0.58183382\n",
      " 0.58342227 0.58877882 0.60595407 0.61903338 0.64419339 0.6528448\n",
      " 0.65996538 0.68279073 0.67970025 0.70804539 0.70967636 0.71287108\n",
      " 0.70617437 0.71264201 0.70806185 0.71464471 0.70908515 0.70170806\n",
      " 0.69375348 0.70515381 0.70722647 0.74525592 0.78038693 0.85461596\n",
      " 0.83680697 0.85365713 0.84812637 0.86378177 0.93420977 0.87279119\n",
      " 0.90417331 0.91480273 0.93286412 0.9355321  0.94373908 0.98673277\n",
      " 0.97810604 1.         0.97697164 0.95058257 0.89366322 0.93587092\n",
      " 0.92493697 0.84888768 0.92850206 0.89626399 0.8726938  0.87615464\n",
      " 0.91969427 0.91045195 0.88814068 0.87221247 0.86049467 0.85538036\n",
      " 0.85536778 0.85804379 0.86134094 0.86408162 0.86594087 0.86712843\n",
      " 0.86802179 0.86890262 0.86984903 0.8707639  0.87146729 0.87179232\n",
      " 0.87164617 0.87102348 0.86998898 0.86864263 0.86709005 0.86542356\n",
      " 0.86371571 0.86202365 0.86039233 0.85886008 0.8574596  0.85621709\n",
      " 0.85515046 0.85426801 0.85356742 0.85303742 0.8526597  0.85240996\n",
      " 0.85226196 0.85218769 0.8521601  0.85215408]\n",
      "9 day output [[0.852147]]\n"
     ]
    }
   ],
   "source": [
    "#Prediction for the next 10 days\n",
    "lst_output= []\n",
    "n_steps=100\n",
    "i=0\n",
    "while(i<10):\n",
    "\n",
    "    if(len(temp_input)>100):\n",
    "        X_input=np.array(temp_input[1:])\n",
    "        print(\"{} day input {}\".format(i, X_input))\n",
    "        X_input=X_input.reshape(1,-1)\n",
    "        X_input= X_input.reshape((1, n_steps, 1))\n",
    "\n",
    "        yhat= model.predict(X_input, verbose=0)\n",
    "        print(\"{} day output {}\".format(i, yhat))\n",
    "        temp_input.extend(yhat[0].tolist())\n",
    "        temp_input=temp_input[1:]\n",
    "        lst_output.extend(yhat.tolist())\n",
    "        i= i+1\n",
    "    else:\n",
    "        X_input= X_input.reshape((1, n_steps, 1))\n",
    "        yhat= model.predict(X_input, verbose=0)\n",
    "        print(yhat[0])\n",
    "        temp_input.extend(yhat[0].tolist())\n",
    "        print(len(temp_input))\n",
    "        lst_output.extend(yhat.tolist())\n",
    "        i= i+1\n",
    "\n",
    "        print(lst_output)\n"
   ]
  },
  {
   "cell_type": "code",
   "execution_count": 34,
   "metadata": {},
   "outputs": [],
   "source": [
    "new_day = np.arange(1,101)\n",
    "pred_day = np.arange(101, 111)"
   ]
  },
  {
   "cell_type": "code",
   "execution_count": 35,
   "metadata": {},
   "outputs": [
    {
     "data": {
      "text/plain": [
       "3654"
      ]
     },
     "execution_count": 35,
     "metadata": {},
     "output_type": "execute_result"
    }
   ],
   "source": [
    "len(bitcoin_prices)"
   ]
  },
  {
   "cell_type": "code",
   "execution_count": 36,
   "metadata": {},
   "outputs": [],
   "source": [
    "#Adding the prediction \n",
    "btc_data=bitcoin_prices.tolist()\n",
    "btc_data.extend(lst_output)"
   ]
  },
  {
   "cell_type": "code",
   "execution_count": 37,
   "metadata": {},
   "outputs": [
    {
     "data": {
      "text/plain": [
       "3664"
      ]
     },
     "execution_count": 37,
     "metadata": {},
     "output_type": "execute_result"
    }
   ],
   "source": [
    "len(btc_data)"
   ]
  },
  {
   "cell_type": "code",
   "execution_count": 38,
   "metadata": {},
   "outputs": [
    {
     "data": {
      "text/plain": [
       "[<matplotlib.lines.Line2D at 0x162abbd6fe0>]"
      ]
     },
     "execution_count": 38,
     "metadata": {},
     "output_type": "execute_result"
    },
    {
     "data": {
      "image/png": "[encoded data removed]",
      "text/plain": [
       "<Figure size 640x480 with 1 Axes>"
      ]
     },
     "metadata": {},
     "output_type": "display_data"
    }
   ],
   "source": [
    "plt.plot(new_day, scaler.inverse_transform(bitcoin_prices[3554:]))\n",
    "plt.plot(pred_day, scaler.inverse_transform(lst_output))"
   ]
  },
  {
   "cell_type": "code",
   "execution_count": 44,
   "metadata": {},
   "outputs": [
    {
     "data": {
      "text/plain": [
       "[<matplotlib.lines.Line2D at 0x162abecfd90>]"
      ]
     },
     "execution_count": 44,
     "metadata": {},
     "output_type": "execute_result"
    },
    {
     "data": {
      "image/png": "[encoded data removed]",
      "text/plain": [
       "<Figure size 640x480 with 1 Axes>"
      ]
     },
     "metadata": {},
     "output_type": "display_data"
    }
   ],
   "source": [
    "plt.plot(btc_data[3600:])"
   ]
  },
  {
   "cell_type": "code",
   "execution_count": null,
   "metadata": {},
   "outputs": [],
   "source": []
  },
  {
   "cell_type": "code",
   "execution_count": null,
   "metadata": {},
   "outputs": [],
   "source": []
  }
 ],
 "metadata": {
  "kernelspec": {
   "display_name": "Python 3 (ipykernel)",
   "language": "python",
   "name": "python3"
  },
  "language_info": {
   "codemirror_mode": {
    "name": "ipython",
    "version": 3
   },
   "file_extension": ".py",
   "mimetype": "text/x-python",
   "name": "python",
   "nbconvert_exporter": "python",
   "pygments_lexer": "ipython3",
   "version": "3.10.13"
  },
  "nteract": {
   "version": "0.28.0"
  },
  "vscode": {
   "interpreter": {
    "hash": "40d3a090f54c6569ab1632332b64b2c03c39dcf918b08424e98f38b5ae0af88f"
   }
  }
 },
 "nbformat": 4,
 "nbformat_minor": 4
}
